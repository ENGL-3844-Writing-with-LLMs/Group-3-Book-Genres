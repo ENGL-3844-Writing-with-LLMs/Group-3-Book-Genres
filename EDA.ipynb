{
 "cells": [
  {
   "cell_type": "code",
   "execution_count": 1,
   "metadata": {},
   "outputs": [],
   "source": [
    "import pandas as pd"
   ]
  },
  {
   "cell_type": "code",
   "execution_count": 2,
   "metadata": {},
   "outputs": [],
   "source": [
    "df = pd.read_csv('data/data.csv', delimiter=',', encoding='utf-8')"
   ]
  },
  {
   "cell_type": "code",
   "execution_count": 3,
   "metadata": {},
   "outputs": [],
   "source": [
    "df['title_length'] = df.title.apply(len)\n",
    "df['summary_length'] = df.summary.apply(len)\n",
    "df['title_duplicates'] = df.title.duplicated()\n",
    "df['summery_duplicates'] = df.summary.duplicated()"
   ]
  },
  {
   "cell_type": "code",
   "execution_count": 4,
   "metadata": {},
   "outputs": [
    {
     "data": {
      "text/plain": [
       "(4657, 8)"
      ]
     },
     "execution_count": 4,
     "metadata": {},
     "output_type": "execute_result"
    }
   ],
   "source": [
    "df.shape"
   ]
  },
  {
   "cell_type": "code",
   "execution_count": 5,
   "metadata": {},
   "outputs": [
    {
     "name": "stdout",
     "output_type": "stream",
     "text": [
      "<class 'pandas.core.frame.DataFrame'>\n",
      "RangeIndex: 4657 entries, 0 to 4656\n",
      "Data columns (total 8 columns):\n",
      " #   Column              Non-Null Count  Dtype \n",
      "---  ------              --------------  ----- \n",
      " 0   index               4657 non-null   int64 \n",
      " 1   title               4657 non-null   object\n",
      " 2   genre               4657 non-null   object\n",
      " 3   summary             4657 non-null   object\n",
      " 4   title_length        4657 non-null   int64 \n",
      " 5   summary_length      4657 non-null   int64 \n",
      " 6   title_duplicates    4657 non-null   bool  \n",
      " 7   summery_duplicates  4657 non-null   bool  \n",
      "dtypes: bool(2), int64(3), object(3)\n",
      "memory usage: 227.5+ KB\n"
     ]
    }
   ],
   "source": [
    "df.info()"
   ]
  },
  {
   "cell_type": "code",
   "execution_count": 6,
   "metadata": {},
   "outputs": [
    {
     "data": {
      "text/plain": [
       "Index(['index', 'title', 'genre', 'summary', 'title_length', 'summary_length',\n",
       "       'title_duplicates', 'summery_duplicates'],\n",
       "      dtype='object')"
      ]
     },
     "execution_count": 6,
     "metadata": {},
     "output_type": "execute_result"
    }
   ],
   "source": [
    "df.columns"
   ]
  },
  {
   "cell_type": "code",
   "execution_count": 7,
   "metadata": {},
   "outputs": [
    {
     "data": {
      "text/plain": [
       "count          4657\n",
       "unique         4296\n",
       "top       Bloodline\n",
       "freq              4\n",
       "Name: title, dtype: object"
      ]
     },
     "execution_count": 7,
     "metadata": {},
     "output_type": "execute_result"
    }
   ],
   "source": [
    "df.title.describe()"
   ]
  },
  {
   "cell_type": "code",
   "execution_count": 9,
   "metadata": {},
   "outputs": [
    {
     "data": {
      "text/plain": [
       "title\n",
       "The Hunger Games         4\n",
       "Nemesis                  4\n",
       "Bloodline                4\n",
       "Annihilation             3\n",
       "Broken                   3\n",
       "                        ..\n",
       "King Rat                 1\n",
       "King Solomon's Carpet    1\n",
       "King of Foxes            1\n",
       "King of Scars            1\n",
       "’Salem's Lot             1\n",
       "Name: title_duplicates, Length: 4296, dtype: int64"
      ]
     },
     "execution_count": 9,
     "metadata": {},
     "output_type": "execute_result"
    }
   ],
   "source": [
    "duplicate_titles = df.groupby('title').count()['title_duplicates'].sort_values(ascending=False)\n",
    "duplicate_titles\n"
   ]
  },
  {
   "cell_type": "code",
   "execution_count": 10,
   "metadata": {},
   "outputs": [],
   "source": [
    "duplicates_of_4 = len([count for count in duplicate_titles if count == 4])\n",
    "duplicates_of_3 = len([count for count in duplicate_titles if count == 3])\n",
    "duplicates_of_2 = len([count for count in duplicate_titles if count == 2])"
   ]
  },
  {
   "cell_type": "code",
   "execution_count": 11,
   "metadata": {},
   "outputs": [
    {
     "name": "stdout",
     "output_type": "stream",
     "text": [
      "Number of titles with 4 duplicates: 3\n",
      "Number of titles with 3 duplicates: 36\n",
      "Number of titles with 2 duplicates: 280\n"
     ]
    }
   ],
   "source": [
    "print(f\"Number of titles with 4 duplicates: {duplicates_of_4}\")\n",
    "print(f\"Number of titles with 3 duplicates: {duplicates_of_3}\")\n",
    "print(f\"Number of titles with 2 duplicates: {duplicates_of_2}\")"
   ]
  },
  {
   "cell_type": "code",
   "execution_count": 12,
   "metadata": {},
   "outputs": [
    {
     "data": {
      "text/plain": [
       "count                                                  4657\n",
       "unique                                                 4542\n",
       "top       The incredible true story of the women who fou...\n",
       "freq                                                      3\n",
       "Name: summary, dtype: object"
      ]
     },
     "execution_count": 12,
     "metadata": {},
     "output_type": "execute_result"
    }
   ],
   "source": [
    "df.summary.describe()"
   ]
  },
  {
   "cell_type": "code",
   "execution_count": 13,
   "metadata": {},
   "outputs": [
    {
     "data": {
      "text/plain": [
       "count         4657\n",
       "unique          10\n",
       "top       thriller\n",
       "freq          1023\n",
       "Name: genre, dtype: object"
      ]
     },
     "execution_count": 13,
     "metadata": {},
     "output_type": "execute_result"
    }
   ],
   "source": [
    "df.genre.describe()"
   ]
  },
  {
   "cell_type": "code",
   "execution_count": 14,
   "metadata": {},
   "outputs": [
    {
     "data": {
      "text/plain": [
       "count      10.000000\n",
       "mean      465.700000\n",
       "std       345.779329\n",
       "min       100.000000\n",
       "25%       102.750000\n",
       "50%       550.000000\n",
       "75%       635.250000\n",
       "max      1023.000000\n",
       "Name: count, dtype: float64"
      ]
     },
     "execution_count": 14,
     "metadata": {},
     "output_type": "execute_result"
    }
   ],
   "source": [
    "df.genre.value_counts().describe()"
   ]
  },
  {
   "cell_type": "code",
   "execution_count": 15,
   "metadata": {},
   "outputs": [
    {
     "data": {
      "text/plain": [
       "<Axes: xlabel='genre'>"
      ]
     },
     "execution_count": 15,
     "metadata": {},
     "output_type": "execute_result"
    },
    {
     "data": {
      "image/png": "[encoded data removed]",
      "text/plain": [
       "<Figure size 640x480 with 1 Axes>"
      ]
     },
     "metadata": {},
     "output_type": "display_data"
    }
   ],
   "source": [
    "df.genre.value_counts().plot(kind='bar')"
   ]
  },
  {
   "cell_type": "code",
   "execution_count": 16,
   "metadata": {},
   "outputs": [
    {
     "data": {
      "text/plain": [
       "count    4657.000000\n",
       "mean       19.323169\n",
       "std        14.596025\n",
       "min         2.000000\n",
       "25%        12.000000\n",
       "50%        16.000000\n",
       "75%        21.000000\n",
       "max       166.000000\n",
       "Name: title_length, dtype: float64"
      ]
     },
     "execution_count": 16,
     "metadata": {},
     "output_type": "execute_result"
    }
   ],
   "source": [
    "df.title_length.describe()"
   ]
  },
  {
   "cell_type": "code",
   "execution_count": 17,
   "metadata": {},
   "outputs": [
    {
     "data": {
      "text/plain": [
       "<Axes: >"
      ]
     },
     "execution_count": 17,
     "metadata": {},
     "output_type": "execute_result"
    },
    {
     "data": {
      "image/png": "[encoded data removed]",
      "text/plain": [
       "<Figure size 1200x800 with 1 Axes>"
      ]
     },
     "metadata": {},
     "output_type": "display_data"
    }
   ],
   "source": [
    "df.title_length.hist(\n",
    "    figsize=(12, 8)\n",
    ")"
   ]
  },
  {
   "cell_type": "code",
   "execution_count": 18,
   "metadata": {},
   "outputs": [
    {
     "data": {
      "text/plain": [
       "count     4657.000000\n",
       "mean      2106.322311\n",
       "std       2525.855854\n",
       "min         11.000000\n",
       "25%        699.000000\n",
       "50%       1141.000000\n",
       "75%       2562.000000\n",
       "max      31263.000000\n",
       "Name: summary_length, dtype: float64"
      ]
     },
     "execution_count": 18,
     "metadata": {},
     "output_type": "execute_result"
    }
   ],
   "source": [
    "df.summary_length.describe()"
   ]
  },
  {
   "cell_type": "code",
   "execution_count": 19,
   "metadata": {},
   "outputs": [
    {
     "data": {
      "text/plain": [
       "<Axes: >"
      ]
     },
     "execution_count": 19,
     "metadata": {},
     "output_type": "execute_result"
    },
    {
     "data": {
      "image/png": "[encoded data removed]",
      "text/plain": [
       "<Figure size 1200x800 with 1 Axes>"
      ]
     },
     "metadata": {},
     "output_type": "display_data"
    }
   ],
   "source": [
    "df.summary_length.hist(\n",
    "    figsize=(12, 8)\n",
    ")"
   ]
  }
 ],
 "metadata": {
  "kernelspec": {
   "display_name": "Python 3",
   "language": "python",
   "name": "python3"
  },
  "language_info": {
   "codemirror_mode": {
    "name": "ipython",
    "version": 3
   },
   "file_extension": ".py",
   "mimetype": "text/x-python",
   "name": "python",
   "nbconvert_exporter": "python",
   "pygments_lexer": "ipython3",
   "version": "3.11.5"
  }
 },
 "nbformat": 4,
 "nbformat_minor": 2
}
